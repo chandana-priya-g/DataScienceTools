{
  "cells": [
    {
      "cell_type": "markdown",
      "metadata": {
        "id": "i6E6FP3vw_q4"
      },
      "source": [
        "<center>\n",
        "    <img src=\"https://cf-courses-data.s3.us.cloud-object-storage.appdomain.cloud/IBMDeveloperSkillsNetwork-DS0105EN-SkillsNetwork/labs/Module2/images/SN_web_lightmode.png\" width=\"300\" alt=\"cognitiveclass.ai logo\">\n",
        "</center>\n"
      ]
    },
    {
      "cell_type": "markdown",
      "metadata": {
        "id": "d3DNdtOdw_q5"
      },
      "source": [
        "#### Add your code below following the instructions given in the course\n"
      ]
    },
    {
      "cell_type": "markdown",
      "metadata": {
        "id": "MqzqK5Unw_q6"
      },
      "source": [
        "# DataScienceEcosystem"
      ]
    },
    {
      "cell_type": "markdown",
      "metadata": {
        "id": "vsXXngqKw_q6"
      },
      "source": [
        "## In this notebook, Data Science Tools and Ecosystem are summarized."
      ]
    },
    {
      "cell_type": "markdown",
      "metadata": {
        "id": "mVcAk0zww_q6"
      },
      "source": [
        "**Objectives :**\n",
        "* Review of Data Science Tools\n",
        "* Introduction to Languages used in Data Science\n",
        "* Overview of Data Science Libraries, Programs and Packages\n",
        "* Intro to Jupyter\n",
        "* Intro to Github\n",
        "* Hands on labs involving Data Science Technologies\n",
        "* Final Project"
      ]
    },
    {
      "cell_type": "markdown",
      "metadata": {
        "id": "vrYQ6EFzw_q7"
      },
      "source": [
        "### Some of the popular languages that Data Scientists use are:\n",
        "1. Python\n",
        "2. R\n",
        "3. Julia\n",
        "4. Java\n",
        "5. Scala\n",
        "6. C++\n",
        "7. MATLAB\n",
        "8. JavaScript"
      ]
    },
    {
      "cell_type": "markdown",
      "metadata": {
        "id": "9jEUAJT2w_q7"
      },
      "source": [
        "### Some of the commonly used libraries used by Data Scientists include:\n",
        " 1. Scikit-Learn\n",
        " 2. TensorFlow\n",
        " 3. PyTorch\n",
        " 4. Caffe\n",
        " 5. Keras"
      ]
    },
    {
      "cell_type": "markdown",
      "metadata": {
        "tags": [],
        "id": "-fn4gFTOw_q7"
      },
      "source": [
        "### Data Science Tools\n",
        "\n",
        "| Data Management | Data Integration and Transformation | Data Visualization | Deployment | Monitoring | Code Asset Management | Data Asset Management |\n",
        "|:----------------:|:----------------:|:-----------------:|:-----------------:|:----------------:|:----------------:|:---------------:|\n",
        "|MySQL|Apache Airflow|Kibana|Kubernetes|Amazon Sagemaker|GitHub|Apache Atlas|\n",
        "|MongoDB|Kafka|MatplotLib|Docker|IBM Adversarial Robustness|BitBucket||\n",
        "|CouchDB|KubeFlow|ggPlot|Openshift||GitLab||\n",
        "|Cassandra|SparkSQL|Hue|TensorFlow Lite||||\n",
        "|HFS|||TensorFlow.js||||\n",
        "||||PredictionIO||||\n",
        "||||MLeap||||\n"
      ]
    },
    {
      "cell_type": "markdown",
      "source": [
        "### Below are some of Data Science Tools\n",
        "\n",
        "| Data Science Tools |\n",
        "|:----------------:|\n",
        "|Anaconda|\n",
        "|RStudio|\n",
        "|Apache Spark|\n",
        "|IBM Watson|\n",
        "|Jupyter Notebook|\n"
      ],
      "metadata": {
        "id": "NKDLj1EnxIkC"
      }
    },
    {
      "cell_type": "markdown",
      "metadata": {
        "id": "nRsFs4aVw_q7"
      },
      "source": [
        "### Below are a few examples of evaluating arithmetic expressions in Python\n",
        "\n",
        "* Addition : 1+2 = 3\n",
        "* Subtraction : 5-3 = 2\n",
        "* Multiplication : 4*5 = 20\n",
        "* Division : 6/3 = 2"
      ]
    },
    {
      "cell_type": "code",
      "execution_count": null,
      "metadata": {
        "tags": [],
        "id": "4PR-wDvfw_q8",
        "outputId": "c3b92c4c-436e-4cf4-ddee-5ddb52335ad8"
      },
      "outputs": [
        {
          "data": {
            "text/plain": [
              "17"
            ]
          },
          "execution_count": 23,
          "metadata": {},
          "output_type": "execute_result"
        }
      ],
      "source": [
        "# Addition and Multiplication\n",
        "\n",
        "(3*4)+5"
      ]
    },
    {
      "cell_type": "code",
      "execution_count": null,
      "metadata": {
        "tags": [],
        "id": "06wzJWlUw_q8",
        "outputId": "1cb59222-0250-4557-8218-43645e33201d"
      },
      "outputs": [
        {
          "data": {
            "text/plain": [
              "3.3333333333333335"
            ]
          },
          "execution_count": 22,
          "metadata": {},
          "output_type": "execute_result"
        }
      ],
      "source": [
        "#This will convert 200 minutes to hours by diving by 60\n",
        "\n",
        "200/60"
      ]
    },
    {
      "cell_type": "code",
      "execution_count": null,
      "metadata": {
        "tags": [],
        "id": "tnGs3iP5w_q9",
        "outputId": "31c0c745-8c0f-4779-e105-d53d5522507c"
      },
      "outputs": [
        {
          "name": "stdout",
          "output_type": "stream",
          "text": [
            "Enter Minutes\n"
          ]
        },
        {
          "name": "stdin",
          "output_type": "stream",
          "text": [
            " 120\n"
          ]
        },
        {
          "name": "stdout",
          "output_type": "stream",
          "text": [
            "120  minutes =  2.0  hour(s).\n"
          ]
        }
      ],
      "source": [
        "# Converting Minutes to Hours\n",
        "\n",
        "print(\"Enter Minutes\")\n",
        "minutes = int(input())\n",
        "hours = minutes/60\n",
        "print(minutes, \" minutes = \", hours, \" hour(s).\")\n"
      ]
    },
    {
      "cell_type": "markdown",
      "metadata": {
        "id": "6eK5KJVBw_q9"
      },
      "source": [
        "## Author\n",
        "\n",
        "Chandana Priya"
      ]
    },
    {
      "cell_type": "code",
      "execution_count": null,
      "metadata": {
        "id": "jdnIQeh2w_q9"
      },
      "outputs": [],
      "source": []
    }
  ],
  "metadata": {
    "kernelspec": {
      "display_name": "Python",
      "language": "python",
      "name": "conda-env-python-py"
    },
    "language_info": {
      "codemirror_mode": {
        "name": "ipython",
        "version": 3
      },
      "file_extension": ".py",
      "mimetype": "text/x-python",
      "name": "python",
      "nbconvert_exporter": "python",
      "pygments_lexer": "ipython3",
      "version": "3.7.12"
    },
    "colab": {
      "provenance": []
    }
  },
  "nbformat": 4,
  "nbformat_minor": 0
}